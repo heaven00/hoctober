{
 "cells": [
  {
   "cell_type": "code",
   "execution_count": 1,
   "metadata": {
    "collapsed": true
   },
   "outputs": [],
   "source": [
    "import pandas as pd\n",
    "%matplotlib inline"
   ]
  },
  {
   "cell_type": "code",
   "execution_count": 2,
   "metadata": {
    "collapsed": true
   },
   "outputs": [],
   "source": [
    "train_data = pd.read_csv('data/Train/Train.csv', low_memory=False)\n",
    "test_data = pd.read_csv('data/Test.csv', low_memory=False)"
   ]
  },
  {
   "cell_type": "code",
   "execution_count": 3,
   "metadata": {
    "collapsed": false
   },
   "outputs": [],
   "source": [
    "data = pd.concat([train_data, test_data])"
   ]
  },
  {
   "cell_type": "code",
   "execution_count": 4,
   "metadata": {
    "collapsed": false
   },
   "outputs": [
    {
     "name": "stdout",
     "output_type": "stream",
     "text": [
      "75278 35249\n"
     ]
    }
   ],
   "source": [
    "print(len(train_data.index), len(test_data.index))"
   ]
  },
  {
   "cell_type": "code",
   "execution_count": 5,
   "metadata": {
    "collapsed": false,
    "scrolled": true
   },
   "outputs": [
    {
     "data": {
      "text/plain": [
       "110527"
      ]
     },
     "execution_count": 5,
     "metadata": {},
     "output_type": "execute_result"
    }
   ],
   "source": [
    "len(data.index)"
   ]
  },
  {
   "cell_type": "code",
   "execution_count": 6,
   "metadata": {
    "collapsed": true
   },
   "outputs": [],
   "source": [
    "first_camp = pd.read_csv('data/Train/First_Health_Camp_Attended.csv', low_memory=False)"
   ]
  },
  {
   "cell_type": "code",
   "execution_count": 7,
   "metadata": {
    "collapsed": true
   },
   "outputs": [],
   "source": [
    "second_camp = pd.read_csv('data/Train/Second_Health_Camp_Attended.csv', low_memory=False)"
   ]
  },
  {
   "cell_type": "code",
   "execution_count": 8,
   "metadata": {
    "collapsed": true
   },
   "outputs": [],
   "source": [
    "third_camp = pd.read_csv('data/Train/Third_Health_Camp_Attended.csv', low_memory=False)"
   ]
  },
  {
   "cell_type": "code",
   "execution_count": 9,
   "metadata": {
    "collapsed": false
   },
   "outputs": [],
   "source": [
    "cols = ['Patient_ID', 'Health_Camp_ID']\n",
    "success = pd.concat([first_camp[cols], second_camp[cols], third_camp[cols]])"
   ]
  },
  {
   "cell_type": "code",
   "execution_count": 10,
   "metadata": {
    "collapsed": false
   },
   "outputs": [],
   "source": [
    "success['target'] = 1"
   ]
  },
  {
   "cell_type": "code",
   "execution_count": 11,
   "metadata": {
    "collapsed": false
   },
   "outputs": [],
   "source": [
    "target_data = pd.merge(data, success, on=cols, how='left')"
   ]
  },
  {
   "cell_type": "code",
   "execution_count": 12,
   "metadata": {
    "collapsed": false
   },
   "outputs": [],
   "source": [
    "target_data.target = target_data.target.replace(pd.np.nan, 0)"
   ]
  },
  {
   "cell_type": "code",
   "execution_count": 13,
   "metadata": {
    "collapsed": false
   },
   "outputs": [
    {
     "data": {
      "text/html": [
       "<div>\n",
       "<table border=\"1\" class=\"dataframe\">\n",
       "  <thead>\n",
       "    <tr style=\"text-align: right;\">\n",
       "      <th></th>\n",
       "      <th>Patient_ID</th>\n",
       "      <th>Health_Camp_ID</th>\n",
       "      <th>Registration_Date</th>\n",
       "      <th>Var1</th>\n",
       "      <th>Var2</th>\n",
       "      <th>Var3</th>\n",
       "      <th>Var4</th>\n",
       "      <th>Var5</th>\n",
       "      <th>target</th>\n",
       "    </tr>\n",
       "  </thead>\n",
       "  <tbody>\n",
       "    <tr>\n",
       "      <th>0</th>\n",
       "      <td>489652</td>\n",
       "      <td>6578</td>\n",
       "      <td>10-Sep-05</td>\n",
       "      <td>4</td>\n",
       "      <td>0</td>\n",
       "      <td>0</td>\n",
       "      <td>0</td>\n",
       "      <td>2</td>\n",
       "      <td>1.0</td>\n",
       "    </tr>\n",
       "    <tr>\n",
       "      <th>1</th>\n",
       "      <td>507246</td>\n",
       "      <td>6578</td>\n",
       "      <td>18-Aug-05</td>\n",
       "      <td>45</td>\n",
       "      <td>5</td>\n",
       "      <td>0</td>\n",
       "      <td>0</td>\n",
       "      <td>7</td>\n",
       "      <td>0.0</td>\n",
       "    </tr>\n",
       "    <tr>\n",
       "      <th>2</th>\n",
       "      <td>523729</td>\n",
       "      <td>6534</td>\n",
       "      <td>29-Apr-06</td>\n",
       "      <td>0</td>\n",
       "      <td>0</td>\n",
       "      <td>0</td>\n",
       "      <td>0</td>\n",
       "      <td>0</td>\n",
       "      <td>1.0</td>\n",
       "    </tr>\n",
       "    <tr>\n",
       "      <th>3</th>\n",
       "      <td>524931</td>\n",
       "      <td>6535</td>\n",
       "      <td>07-Feb-04</td>\n",
       "      <td>0</td>\n",
       "      <td>0</td>\n",
       "      <td>0</td>\n",
       "      <td>0</td>\n",
       "      <td>0</td>\n",
       "      <td>0.0</td>\n",
       "    </tr>\n",
       "    <tr>\n",
       "      <th>4</th>\n",
       "      <td>521364</td>\n",
       "      <td>6529</td>\n",
       "      <td>28-Feb-06</td>\n",
       "      <td>15</td>\n",
       "      <td>1</td>\n",
       "      <td>0</td>\n",
       "      <td>0</td>\n",
       "      <td>7</td>\n",
       "      <td>1.0</td>\n",
       "    </tr>\n",
       "  </tbody>\n",
       "</table>\n",
       "</div>"
      ],
      "text/plain": [
       "   Patient_ID  Health_Camp_ID Registration_Date  Var1  Var2  Var3  Var4  Var5  \\\n",
       "0      489652            6578         10-Sep-05     4     0     0     0     2   \n",
       "1      507246            6578         18-Aug-05    45     5     0     0     7   \n",
       "2      523729            6534         29-Apr-06     0     0     0     0     0   \n",
       "3      524931            6535         07-Feb-04     0     0     0     0     0   \n",
       "4      521364            6529         28-Feb-06    15     1     0     0     7   \n",
       "\n",
       "   target  \n",
       "0     1.0  \n",
       "1     0.0  \n",
       "2     1.0  \n",
       "3     0.0  \n",
       "4     1.0  "
      ]
     },
     "execution_count": 13,
     "metadata": {},
     "output_type": "execute_result"
    }
   ],
   "source": [
    "target_data.head()"
   ]
  },
  {
   "cell_type": "code",
   "execution_count": 14,
   "metadata": {
    "collapsed": false,
    "scrolled": true
   },
   "outputs": [],
   "source": [
    "target_data.Registration_Date = target_data.Registration_Date.fillna(method='ffill')"
   ]
  },
  {
   "cell_type": "code",
   "execution_count": 15,
   "metadata": {
    "collapsed": false
   },
   "outputs": [],
   "source": [
    "target_data['day'] = target_data.Registration_Date.apply(lambda x: str(x).split('-')[0])\n",
    "target_data['month'] = target_data.Registration_Date.apply(lambda x: str(x).split('-')[1])\n",
    "target_data['year'] = target_data.Registration_Date.apply(lambda x: str(x).split('-')[2])"
   ]
  },
  {
   "cell_type": "code",
   "execution_count": 16,
   "metadata": {
    "collapsed": false
   },
   "outputs": [
    {
     "data": {
      "text/plain": [
       "06    48324\n",
       "05    36223\n",
       "04    19117\n",
       "07     3790\n",
       "03     3073\n",
       "Name: year, dtype: int64"
      ]
     },
     "execution_count": 16,
     "metadata": {},
     "output_type": "execute_result"
    }
   ],
   "source": [
    "target_data.year.value_counts()"
   ]
  },
  {
   "cell_type": "code",
   "execution_count": 17,
   "metadata": {
    "collapsed": false
   },
   "outputs": [],
   "source": [
    "months = {'jan': 1,\n",
    "          'feb': 2,\n",
    "          'mar': 3,\n",
    "          'apr':4,\n",
    "          'may':5,\n",
    "          'jun':6,\n",
    "          'jul':7,\n",
    "          'aug':8,\n",
    "          'sep':9,\n",
    "          'oct':10,\n",
    "          'nov':11,\n",
    "          'dec':12}\n",
    "\n",
    "target_data['month'] = target_data['month'].apply(lambda x: months[x.lower()])"
   ]
  },
  {
   "cell_type": "code",
   "execution_count": 18,
   "metadata": {
    "collapsed": true
   },
   "outputs": [],
   "source": [
    "target_data['day'] = target_data['day'].apply(int)\n",
    "target_data['month'] = target_data['month'].apply(int)\n",
    "target_data['year'] = target_data['year'].apply(lambda x: int('20'+x))"
   ]
  },
  {
   "cell_type": "code",
   "execution_count": 18,
   "metadata": {
    "collapsed": false
   },
   "outputs": [],
   "source": [
    "del target_data['Registration_Date']"
   ]
  },
  {
   "cell_type": "code",
   "execution_count": 21,
   "metadata": {
    "collapsed": false
   },
   "outputs": [
    {
     "data": {
      "text/plain": [
       "75278"
      ]
     },
     "execution_count": 21,
     "metadata": {},
     "output_type": "execute_result"
    }
   ],
   "source": [
    "len(train_data.index)"
   ]
  },
  {
   "cell_type": "code",
   "execution_count": 89,
   "metadata": {
    "collapsed": false
   },
   "outputs": [],
   "source": [
    "trainset = target_data[0:len(train_data.index)]\n",
    "testset = target_data[len(train_data.index):]"
   ]
  },
  {
   "cell_type": "code",
   "execution_count": 90,
   "metadata": {
    "collapsed": false
   },
   "outputs": [
    {
     "data": {
      "text/plain": [
       "Index(['Patient_ID', 'Health_Camp_ID', 'Var1', 'Var2', 'Var3', 'Var4', 'Var5',\n",
       "       'target', 'day', 'month', 'year'],\n",
       "      dtype='object')"
      ]
     },
     "execution_count": 90,
     "metadata": {},
     "output_type": "execute_result"
    }
   ],
   "source": [
    "target_data.columns"
   ]
  },
  {
   "cell_type": "code",
   "execution_count": 79,
   "metadata": {
    "collapsed": true
   },
   "outputs": [],
   "source": [
    "import xgboost as xgb"
   ]
  },
  {
   "cell_type": "code",
   "execution_count": 91,
   "metadata": {
    "collapsed": false
   },
   "outputs": [
    {
     "data": {
      "text/html": [
       "<div>\n",
       "<table border=\"1\" class=\"dataframe\">\n",
       "  <thead>\n",
       "    <tr style=\"text-align: right;\">\n",
       "      <th></th>\n",
       "      <th>Patient_ID</th>\n",
       "      <th>Health_Camp_ID</th>\n",
       "      <th>Var1</th>\n",
       "      <th>Var2</th>\n",
       "      <th>Var3</th>\n",
       "      <th>Var4</th>\n",
       "      <th>Var5</th>\n",
       "      <th>target</th>\n",
       "      <th>day</th>\n",
       "      <th>month</th>\n",
       "      <th>year</th>\n",
       "    </tr>\n",
       "  </thead>\n",
       "  <tbody>\n",
       "    <tr>\n",
       "      <th>0</th>\n",
       "      <td>489652</td>\n",
       "      <td>6578</td>\n",
       "      <td>4</td>\n",
       "      <td>0</td>\n",
       "      <td>0</td>\n",
       "      <td>0</td>\n",
       "      <td>2</td>\n",
       "      <td>1.0</td>\n",
       "      <td>10</td>\n",
       "      <td>9</td>\n",
       "      <td>2005</td>\n",
       "    </tr>\n",
       "    <tr>\n",
       "      <th>1</th>\n",
       "      <td>507246</td>\n",
       "      <td>6578</td>\n",
       "      <td>45</td>\n",
       "      <td>5</td>\n",
       "      <td>0</td>\n",
       "      <td>0</td>\n",
       "      <td>7</td>\n",
       "      <td>0.0</td>\n",
       "      <td>18</td>\n",
       "      <td>8</td>\n",
       "      <td>2005</td>\n",
       "    </tr>\n",
       "    <tr>\n",
       "      <th>2</th>\n",
       "      <td>523729</td>\n",
       "      <td>6534</td>\n",
       "      <td>0</td>\n",
       "      <td>0</td>\n",
       "      <td>0</td>\n",
       "      <td>0</td>\n",
       "      <td>0</td>\n",
       "      <td>1.0</td>\n",
       "      <td>29</td>\n",
       "      <td>4</td>\n",
       "      <td>2006</td>\n",
       "    </tr>\n",
       "    <tr>\n",
       "      <th>3</th>\n",
       "      <td>524931</td>\n",
       "      <td>6535</td>\n",
       "      <td>0</td>\n",
       "      <td>0</td>\n",
       "      <td>0</td>\n",
       "      <td>0</td>\n",
       "      <td>0</td>\n",
       "      <td>0.0</td>\n",
       "      <td>7</td>\n",
       "      <td>2</td>\n",
       "      <td>2004</td>\n",
       "    </tr>\n",
       "    <tr>\n",
       "      <th>4</th>\n",
       "      <td>521364</td>\n",
       "      <td>6529</td>\n",
       "      <td>15</td>\n",
       "      <td>1</td>\n",
       "      <td>0</td>\n",
       "      <td>0</td>\n",
       "      <td>7</td>\n",
       "      <td>1.0</td>\n",
       "      <td>28</td>\n",
       "      <td>2</td>\n",
       "      <td>2006</td>\n",
       "    </tr>\n",
       "  </tbody>\n",
       "</table>\n",
       "</div>"
      ],
      "text/plain": [
       "   Patient_ID  Health_Camp_ID  Var1  Var2  Var3  Var4  Var5  target  day  \\\n",
       "0      489652            6578     4     0     0     0     2     1.0   10   \n",
       "1      507246            6578    45     5     0     0     7     0.0   18   \n",
       "2      523729            6534     0     0     0     0     0     1.0   29   \n",
       "3      524931            6535     0     0     0     0     0     0.0    7   \n",
       "4      521364            6529    15     1     0     0     7     1.0   28   \n",
       "\n",
       "   month  year  \n",
       "0      9  2005  \n",
       "1      8  2005  \n",
       "2      4  2006  \n",
       "3      2  2004  \n",
       "4      2  2006  "
      ]
     },
     "execution_count": 91,
     "metadata": {},
     "output_type": "execute_result"
    }
   ],
   "source": [
    "trainset.head()"
   ]
  },
  {
   "cell_type": "code",
   "execution_count": 93,
   "metadata": {
    "collapsed": true
   },
   "outputs": [],
   "source": [
    "partial_trainset = trainset[trainset['year'].isin([2004, 20005])]\n",
    "validation_set = trainset[trainset['year'] > 2005]"
   ]
  },
  {
   "cell_type": "code",
   "execution_count": 94,
   "metadata": {
    "collapsed": true
   },
   "outputs": [],
   "source": [
    "train_cols = [col for col in trainset.columns if col != 'target']\n",
    "X_train = partial_trainset[train_cols]\n",
    "Y_train = partial_trainset['target']"
   ]
  },
  {
   "cell_type": "code",
   "execution_count": 97,
   "metadata": {
    "collapsed": true
   },
   "outputs": [],
   "source": [
    "X_val = validation_set[train_cols]\n",
    "Y_val = validation_set['target']"
   ]
  },
  {
   "cell_type": "code",
   "execution_count": 95,
   "metadata": {
    "collapsed": true
   },
   "outputs": [],
   "source": [
    "X_test = testset[train_cols]\n",
    "Y_test = testset['target']"
   ]
  },
  {
   "cell_type": "code",
   "execution_count": 98,
   "metadata": {
    "collapsed": true
   },
   "outputs": [],
   "source": [
    "dtrain = xgb.DMatrix(X_train.as_matrix(), label=Y_train.as_matrix(), feature_names=X_train.columns)\n",
    "dtest = xgb.DMatrix(X_test.as_matrix(), label=Y_test.as_matrix(), feature_names=X_test.columns)\n",
    "dval = xgb.DMatrix(X_val.as_matrix(), label=Y_val.as_matrix(), feature_names=X_val.columns)"
   ]
  },
  {
   "cell_type": "code",
   "execution_count": 99,
   "metadata": {
    "collapsed": true
   },
   "outputs": [],
   "source": [
    "watchlist = [(dtrain, 'train'), (dval, 'eval')]"
   ]
  },
  {
   "cell_type": "code",
   "execution_count": 104,
   "metadata": {
    "collapsed": true
   },
   "outputs": [],
   "source": [
    "params = {}\n",
    "params[\"objective\"] = \"binary:logistic\"\n",
    "params[\"eta\"] = 0.01\n",
    "params[\"min_child_weight\"] = 1\n",
    "params[\"subsample\"] = 0.8\n",
    "# params[\"colsample_bytree\"] = 0.8\n",
    "params[\"scale_pos_weight\"] = 1.0\n",
    "# params[\"silent\"] = 1\n",
    "params[\"max_depth\"] = 5\n",
    "params[\"nthread\"] = 4\n",
    "params[\"eval_metric\"] = \"auc\""
   ]
  },
  {
   "cell_type": "code",
   "execution_count": 106,
   "metadata": {
    "collapsed": false,
    "scrolled": true
   },
   "outputs": [
    {
     "name": "stderr",
     "output_type": "stream",
     "text": [
      "[0]\ttrain-auc:0.728758\teval-auc:0.553447\n",
      "[1]\ttrain-auc:0.732053\teval-auc:0.558962\n",
      "[2]\ttrain-auc:0.733473\teval-auc:0.577049\n",
      "[3]\ttrain-auc:0.734007\teval-auc:0.577584\n",
      "[4]\ttrain-auc:0.733304\teval-auc:0.577839\n",
      "[5]\ttrain-auc:0.741026\teval-auc:0.582921\n",
      "[6]\ttrain-auc:0.741081\teval-auc:0.582386\n",
      "[7]\ttrain-auc:0.741675\teval-auc:0.583355\n",
      "[8]\ttrain-auc:0.741525\teval-auc:0.587448\n",
      "[9]\ttrain-auc:0.744145\teval-auc:0.592517\n",
      "[10]\ttrain-auc:0.743324\teval-auc:0.590149\n",
      "[11]\ttrain-auc:0.743553\teval-auc:0.589929\n",
      "[12]\ttrain-auc:0.744511\teval-auc:0.593431\n",
      "[13]\ttrain-auc:0.746587\teval-auc:0.650419\n",
      "[14]\ttrain-auc:0.748532\teval-auc:0.653755\n",
      "[15]\ttrain-auc:0.748531\teval-auc:0.655839\n",
      "[16]\ttrain-auc:0.748888\teval-auc:0.650602\n",
      "[17]\ttrain-auc:0.749157\teval-auc:0.652170\n",
      "[18]\ttrain-auc:0.749585\teval-auc:0.652176\n",
      "[19]\ttrain-auc:0.749213\teval-auc:0.649242\n",
      "[20]\ttrain-auc:0.749476\teval-auc:0.627198\n",
      "[21]\ttrain-auc:0.749682\teval-auc:0.624890\n",
      "[22]\ttrain-auc:0.748773\teval-auc:0.622306\n",
      "[23]\ttrain-auc:0.748618\teval-auc:0.620883\n",
      "[24]\ttrain-auc:0.748916\teval-auc:0.655932\n",
      "[25]\ttrain-auc:0.748867\teval-auc:0.655690\n",
      "[26]\ttrain-auc:0.748883\teval-auc:0.655595\n",
      "[27]\ttrain-auc:0.749117\teval-auc:0.656323\n",
      "[28]\ttrain-auc:0.749290\teval-auc:0.656312\n",
      "[29]\ttrain-auc:0.749238\teval-auc:0.654633\n",
      "[30]\ttrain-auc:0.751007\teval-auc:0.655159\n",
      "[31]\ttrain-auc:0.751508\teval-auc:0.643917\n",
      "[32]\ttrain-auc:0.751216\teval-auc:0.643812\n",
      "[33]\ttrain-auc:0.751435\teval-auc:0.643383\n",
      "[34]\ttrain-auc:0.751192\teval-auc:0.643171\n",
      "[35]\ttrain-auc:0.751574\teval-auc:0.643148\n",
      "[36]\ttrain-auc:0.751503\teval-auc:0.642675\n",
      "[37]\ttrain-auc:0.751589\teval-auc:0.642691\n",
      "[38]\ttrain-auc:0.751349\teval-auc:0.642621\n",
      "[39]\ttrain-auc:0.751328\teval-auc:0.642635\n",
      "[40]\ttrain-auc:0.752951\teval-auc:0.630627\n",
      "[41]\ttrain-auc:0.751691\teval-auc:0.627324\n",
      "[42]\ttrain-auc:0.752844\teval-auc:0.647160\n",
      "[43]\ttrain-auc:0.753058\teval-auc:0.646508\n",
      "[44]\ttrain-auc:0.753025\teval-auc:0.645713\n",
      "[45]\ttrain-auc:0.753599\teval-auc:0.645738\n",
      "[46]\ttrain-auc:0.753687\teval-auc:0.645645\n",
      "[47]\ttrain-auc:0.753740\teval-auc:0.645799\n",
      "[48]\ttrain-auc:0.754023\teval-auc:0.641942\n",
      "[49]\ttrain-auc:0.753894\teval-auc:0.641969\n",
      "[50]\ttrain-auc:0.754299\teval-auc:0.641692\n",
      "[51]\ttrain-auc:0.754283\teval-auc:0.641643\n",
      "[52]\ttrain-auc:0.754341\teval-auc:0.640209\n",
      "[53]\ttrain-auc:0.754361\teval-auc:0.639491\n",
      "[54]\ttrain-auc:0.754526\teval-auc:0.639570\n",
      "[55]\ttrain-auc:0.754509\teval-auc:0.639473\n",
      "[56]\ttrain-auc:0.754563\teval-auc:0.639496\n",
      "[57]\ttrain-auc:0.754619\teval-auc:0.634819\n",
      "[58]\ttrain-auc:0.754612\teval-auc:0.636857\n",
      "[59]\ttrain-auc:0.754391\teval-auc:0.635429\n",
      "[60]\ttrain-auc:0.754107\teval-auc:0.635276\n",
      "[61]\ttrain-auc:0.754209\teval-auc:0.641017\n",
      "[62]\ttrain-auc:0.754214\teval-auc:0.640830\n",
      "[63]\ttrain-auc:0.754523\teval-auc:0.640438\n",
      "[64]\ttrain-auc:0.754862\teval-auc:0.640324\n",
      "[65]\ttrain-auc:0.755628\teval-auc:0.640684\n",
      "[66]\ttrain-auc:0.755095\teval-auc:0.642288\n",
      "[67]\ttrain-auc:0.755406\teval-auc:0.642436\n",
      "[68]\ttrain-auc:0.756140\teval-auc:0.641843\n",
      "[69]\ttrain-auc:0.756221\teval-auc:0.641918\n",
      "[70]\ttrain-auc:0.756920\teval-auc:0.643112\n",
      "[71]\ttrain-auc:0.756857\teval-auc:0.646249\n",
      "[72]\ttrain-auc:0.756976\teval-auc:0.646044\n",
      "[73]\ttrain-auc:0.756914\teval-auc:0.643170\n",
      "[74]\ttrain-auc:0.757312\teval-auc:0.644120\n",
      "[75]\ttrain-auc:0.757429\teval-auc:0.643931\n",
      "[76]\ttrain-auc:0.757387\teval-auc:0.643933\n",
      "[77]\ttrain-auc:0.757613\teval-auc:0.643435\n",
      "[78]\ttrain-auc:0.758612\teval-auc:0.643540\n",
      "[79]\ttrain-auc:0.758807\teval-auc:0.642547\n",
      "[80]\ttrain-auc:0.758903\teval-auc:0.640251\n",
      "[81]\ttrain-auc:0.758852\teval-auc:0.645431\n",
      "[82]\ttrain-auc:0.758946\teval-auc:0.645406\n",
      "[83]\ttrain-auc:0.759032\teval-auc:0.644708\n",
      "[84]\ttrain-auc:0.759072\teval-auc:0.644196\n",
      "[85]\ttrain-auc:0.759184\teval-auc:0.644064\n",
      "[86]\ttrain-auc:0.759266\teval-auc:0.643935\n",
      "[87]\ttrain-auc:0.759271\teval-auc:0.643450\n",
      "[88]\ttrain-auc:0.759635\teval-auc:0.654197\n",
      "[89]\ttrain-auc:0.759759\teval-auc:0.653916\n",
      "[90]\ttrain-auc:0.759761\teval-auc:0.653780\n",
      "[91]\ttrain-auc:0.759859\teval-auc:0.653089\n",
      "[92]\ttrain-auc:0.759789\teval-auc:0.652854\n",
      "[93]\ttrain-auc:0.759852\teval-auc:0.657934\n",
      "[94]\ttrain-auc:0.759833\teval-auc:0.663558\n",
      "[95]\ttrain-auc:0.759943\teval-auc:0.664459\n",
      "[96]\ttrain-auc:0.760049\teval-auc:0.661389\n",
      "[97]\ttrain-auc:0.760143\teval-auc:0.661421\n",
      "[98]\ttrain-auc:0.760134\teval-auc:0.661577\n",
      "[99]\ttrain-auc:0.760298\teval-auc:0.660874\n",
      "[100]\ttrain-auc:0.760517\teval-auc:0.659563\n",
      "[101]\ttrain-auc:0.760868\teval-auc:0.659796\n",
      "[102]\ttrain-auc:0.760877\teval-auc:0.659824\n",
      "[103]\ttrain-auc:0.760888\teval-auc:0.659752\n",
      "[104]\ttrain-auc:0.761023\teval-auc:0.662276\n",
      "[105]\ttrain-auc:0.761105\teval-auc:0.662071\n",
      "[106]\ttrain-auc:0.761291\teval-auc:0.662217\n",
      "[107]\ttrain-auc:0.761372\teval-auc:0.662247\n",
      "[108]\ttrain-auc:0.761304\teval-auc:0.662542\n",
      "[109]\ttrain-auc:0.761237\teval-auc:0.661925\n",
      "[110]\ttrain-auc:0.761281\teval-auc:0.662015\n",
      "[111]\ttrain-auc:0.761218\teval-auc:0.662028\n",
      "[112]\ttrain-auc:0.761454\teval-auc:0.661974\n",
      "[113]\ttrain-auc:0.761682\teval-auc:0.663001\n",
      "[114]\ttrain-auc:0.761822\teval-auc:0.662957\n",
      "[115]\ttrain-auc:0.761914\teval-auc:0.663477\n",
      "[116]\ttrain-auc:0.762426\teval-auc:0.664056\n",
      "[117]\ttrain-auc:0.762541\teval-auc:0.664025\n",
      "[118]\ttrain-auc:0.762423\teval-auc:0.664056\n",
      "[119]\ttrain-auc:0.762693\teval-auc:0.665747\n",
      "[120]\ttrain-auc:0.762791\teval-auc:0.665111\n",
      "[121]\ttrain-auc:0.762880\teval-auc:0.665879\n",
      "[122]\ttrain-auc:0.762926\teval-auc:0.668011\n",
      "[123]\ttrain-auc:0.763210\teval-auc:0.667963\n",
      "[124]\ttrain-auc:0.763234\teval-auc:0.667851\n",
      "[125]\ttrain-auc:0.763127\teval-auc:0.667939\n",
      "[126]\ttrain-auc:0.763226\teval-auc:0.669424\n",
      "[127]\ttrain-auc:0.763220\teval-auc:0.669376\n",
      "[128]\ttrain-auc:0.763377\teval-auc:0.669232\n",
      "[129]\ttrain-auc:0.763452\teval-auc:0.669092\n",
      "[130]\ttrain-auc:0.763416\teval-auc:0.668896\n",
      "[131]\ttrain-auc:0.764116\teval-auc:0.668757\n",
      "[132]\ttrain-auc:0.764207\teval-auc:0.668529\n",
      "[133]\ttrain-auc:0.764254\teval-auc:0.668433\n",
      "[134]\ttrain-auc:0.764291\teval-auc:0.669063\n",
      "[135]\ttrain-auc:0.764328\teval-auc:0.668969\n",
      "[136]\ttrain-auc:0.764456\teval-auc:0.669078\n",
      "[137]\ttrain-auc:0.764580\teval-auc:0.668840\n",
      "[138]\ttrain-auc:0.764526\teval-auc:0.668768\n",
      "[139]\ttrain-auc:0.764783\teval-auc:0.668440\n",
      "[140]\ttrain-auc:0.765035\teval-auc:0.670670\n",
      "[141]\ttrain-auc:0.765139\teval-auc:0.670254\n",
      "[142]\ttrain-auc:0.765085\teval-auc:0.670226\n",
      "[143]\ttrain-auc:0.765246\teval-auc:0.671586\n",
      "[144]\ttrain-auc:0.765261\teval-auc:0.671582\n",
      "[145]\ttrain-auc:0.765143\teval-auc:0.671556\n",
      "[146]\ttrain-auc:0.765256\teval-auc:0.671739\n",
      "[147]\ttrain-auc:0.765482\teval-auc:0.671178\n",
      "[148]\ttrain-auc:0.765632\teval-auc:0.671199\n",
      "[149]\ttrain-auc:0.766203\teval-auc:0.671141\n",
      "[150]\ttrain-auc:0.766339\teval-auc:0.670662\n",
      "[151]\ttrain-auc:0.766358\teval-auc:0.670780\n",
      "[152]\ttrain-auc:0.766428\teval-auc:0.670666\n",
      "[153]\ttrain-auc:0.766550\teval-auc:0.670618\n",
      "[154]\ttrain-auc:0.766593\teval-auc:0.670559\n",
      "[155]\ttrain-auc:0.766816\teval-auc:0.670177\n",
      "[156]\ttrain-auc:0.766968\teval-auc:0.669334\n",
      "[157]\ttrain-auc:0.767074\teval-auc:0.669260\n",
      "[158]\ttrain-auc:0.767042\teval-auc:0.669253\n",
      "[159]\ttrain-auc:0.767110\teval-auc:0.669295\n",
      "[160]\ttrain-auc:0.767117\teval-auc:0.669114\n",
      "[161]\ttrain-auc:0.767266\teval-auc:0.669692\n",
      "[162]\ttrain-auc:0.767334\teval-auc:0.669605\n",
      "[163]\ttrain-auc:0.767453\teval-auc:0.670688\n",
      "[164]\ttrain-auc:0.767603\teval-auc:0.670333\n",
      "[165]\ttrain-auc:0.767758\teval-auc:0.670325\n",
      "[166]\ttrain-auc:0.767770\teval-auc:0.670398\n",
      "[167]\ttrain-auc:0.767913\teval-auc:0.670765\n",
      "[168]\ttrain-auc:0.768093\teval-auc:0.670928\n",
      "[169]\ttrain-auc:0.768085\teval-auc:0.671121\n",
      "[170]\ttrain-auc:0.768089\teval-auc:0.670955\n",
      "[171]\ttrain-auc:0.768148\teval-auc:0.671010\n",
      "[172]\ttrain-auc:0.768276\teval-auc:0.671314\n",
      "[173]\ttrain-auc:0.768394\teval-auc:0.671133\n",
      "[174]\ttrain-auc:0.768400\teval-auc:0.671604\n",
      "[175]\ttrain-auc:0.768393\teval-auc:0.671729\n",
      "[176]\ttrain-auc:0.768474\teval-auc:0.671508\n",
      "[177]\ttrain-auc:0.768500\teval-auc:0.671866\n",
      "[178]\ttrain-auc:0.768476\teval-auc:0.670989\n",
      "[179]\ttrain-auc:0.768571\teval-auc:0.670957\n",
      "[180]\ttrain-auc:0.768694\teval-auc:0.671102\n",
      "[181]\ttrain-auc:0.768796\teval-auc:0.671127\n",
      "[182]\ttrain-auc:0.768840\teval-auc:0.671298\n",
      "[183]\ttrain-auc:0.768895\teval-auc:0.671213\n",
      "[184]\ttrain-auc:0.768890\teval-auc:0.671260\n",
      "[185]\ttrain-auc:0.769019\teval-auc:0.671230\n",
      "[186]\ttrain-auc:0.769217\teval-auc:0.671175\n",
      "[187]\ttrain-auc:0.769325\teval-auc:0.670726\n",
      "[188]\ttrain-auc:0.769360\teval-auc:0.670754\n",
      "[189]\ttrain-auc:0.769390\teval-auc:0.670606\n"
     ]
    }
   ],
   "source": [
    "num_rounds = 190\n",
    "model = xgb.train(params, dtrain, num_rounds, watchlist)"
   ]
  },
  {
   "cell_type": "code",
   "execution_count": 110,
   "metadata": {
    "collapsed": false
   },
   "outputs": [
    {
     "data": {
      "text/plain": [
       "<matplotlib.axes._subplots.AxesSubplot at 0x7fca504d2668>"
      ]
     },
     "execution_count": 110,
     "metadata": {},
     "output_type": "execute_result"
    },
    {
     "data": {
      "image/png": "[encoded data removed]",
      "text/plain": [
       "<matplotlib.figure.Figure at 0x7fca50458f60>"
      ]
     },
     "metadata": {},
     "output_type": "display_data"
    }
   ],
   "source": [
    "xgb.plot_importance(model)"
   ]
  },
  {
   "cell_type": "code",
   "execution_count": 112,
   "metadata": {
    "collapsed": true
   },
   "outputs": [],
   "source": [
    "predictions = model.predict(dtest)"
   ]
  },
  {
   "cell_type": "code",
   "execution_count": 117,
   "metadata": {
    "collapsed": false
   },
   "outputs": [],
   "source": [
    "submission = X_test[['Patient_ID', 'Health_Camp_ID']]"
   ]
  },
  {
   "cell_type": "code",
   "execution_count": 127,
   "metadata": {
    "collapsed": false
   },
   "outputs": [],
   "source": [
    "submission.reset_index().to_csv('submission_1.csv', index=False)"
   ]
  },
  {
   "cell_type": "code",
   "execution_count": 20,
   "metadata": {
    "collapsed": false
   },
   "outputs": [],
   "source": [
    "target_data.to_csv('trail1_data.csv', index=False)"
   ]
  },
  {
   "cell_type": "code",
   "execution_count": null,
   "metadata": {
    "collapsed": true
   },
   "outputs": [],
   "source": []
  }
 ],
 "metadata": {
  "kernelspec": {
   "display_name": "Python 3",
   "language": "python",
   "name": "python3"
  },
  "language_info": {
   "codemirror_mode": {
    "name": "ipython",
    "version": 3
   },
   "file_extension": ".py",
   "mimetype": "text/x-python",
   "name": "python",
   "nbconvert_exporter": "python",
   "pygments_lexer": "ipython3",
   "version": "3.5.1"
  }
 },
 "nbformat": 4,
 "nbformat_minor": 0
}
